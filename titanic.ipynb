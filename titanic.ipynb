{
 "cells": [
  {
   "cell_type": "markdown",
   "metadata": {},
   "source": [
    "Here we are trying to predict the survival rate of passengers who were aboard the Titanic..."
   ]
  },
  {
   "cell_type": "code",
   "execution_count": 3,
   "metadata": {},
   "outputs": [],
   "source": [
    "import pandas as pd\n",
    "import numpy as np"
   ]
  },
  {
   "cell_type": "code",
   "execution_count": 4,
   "metadata": {},
   "outputs": [],
   "source": [
    "data=pd.read_csv('D:/internship Cubic/titanic.csv')"
   ]
  },
  {
   "cell_type": "code",
   "execution_count": 5,
   "metadata": {
    "scrolled": false
   },
   "outputs": [
    {
     "data": {
      "text/html": [
       "<div>\n",
       "<style scoped>\n",
       "    .dataframe tbody tr th:only-of-type {\n",
       "        vertical-align: middle;\n",
       "    }\n",
       "\n",
       "    .dataframe tbody tr th {\n",
       "        vertical-align: top;\n",
       "    }\n",
       "\n",
       "    .dataframe thead th {\n",
       "        text-align: right;\n",
       "    }\n",
       "</style>\n",
       "<table border=\"1\" class=\"dataframe\">\n",
       "  <thead>\n",
       "    <tr style=\"text-align: right;\">\n",
       "      <th></th>\n",
       "      <th>Survived</th>\n",
       "      <th>Pclass</th>\n",
       "      <th>Name</th>\n",
       "      <th>Sex</th>\n",
       "      <th>Age</th>\n",
       "      <th>Siblings/Spouses Aboard</th>\n",
       "      <th>Parents/Children Aboard</th>\n",
       "      <th>Fare</th>\n",
       "    </tr>\n",
       "  </thead>\n",
       "  <tbody>\n",
       "    <tr>\n",
       "      <th>0</th>\n",
       "      <td>0</td>\n",
       "      <td>3</td>\n",
       "      <td>Mr. Owen Harris Braund</td>\n",
       "      <td>male</td>\n",
       "      <td>22.0</td>\n",
       "      <td>1</td>\n",
       "      <td>0</td>\n",
       "      <td>7.2500</td>\n",
       "    </tr>\n",
       "    <tr>\n",
       "      <th>1</th>\n",
       "      <td>1</td>\n",
       "      <td>1</td>\n",
       "      <td>Mrs. John Bradley (Florence Briggs Thayer) Cum...</td>\n",
       "      <td>female</td>\n",
       "      <td>38.0</td>\n",
       "      <td>1</td>\n",
       "      <td>0</td>\n",
       "      <td>71.2833</td>\n",
       "    </tr>\n",
       "    <tr>\n",
       "      <th>2</th>\n",
       "      <td>1</td>\n",
       "      <td>3</td>\n",
       "      <td>Miss. Laina Heikkinen</td>\n",
       "      <td>female</td>\n",
       "      <td>26.0</td>\n",
       "      <td>0</td>\n",
       "      <td>0</td>\n",
       "      <td>7.9250</td>\n",
       "    </tr>\n",
       "    <tr>\n",
       "      <th>3</th>\n",
       "      <td>1</td>\n",
       "      <td>1</td>\n",
       "      <td>Mrs. Jacques Heath (Lily May Peel) Futrelle</td>\n",
       "      <td>female</td>\n",
       "      <td>35.0</td>\n",
       "      <td>1</td>\n",
       "      <td>0</td>\n",
       "      <td>53.1000</td>\n",
       "    </tr>\n",
       "    <tr>\n",
       "      <th>4</th>\n",
       "      <td>0</td>\n",
       "      <td>3</td>\n",
       "      <td>Mr. William Henry Allen</td>\n",
       "      <td>male</td>\n",
       "      <td>35.0</td>\n",
       "      <td>0</td>\n",
       "      <td>0</td>\n",
       "      <td>8.0500</td>\n",
       "    </tr>\n",
       "  </tbody>\n",
       "</table>\n",
       "</div>"
      ],
      "text/plain": [
       "   Survived  Pclass                                               Name  \\\n",
       "0         0       3                             Mr. Owen Harris Braund   \n",
       "1         1       1  Mrs. John Bradley (Florence Briggs Thayer) Cum...   \n",
       "2         1       3                              Miss. Laina Heikkinen   \n",
       "3         1       1        Mrs. Jacques Heath (Lily May Peel) Futrelle   \n",
       "4         0       3                            Mr. William Henry Allen   \n",
       "\n",
       "      Sex   Age  Siblings/Spouses Aboard  Parents/Children Aboard     Fare  \n",
       "0    male  22.0                        1                        0   7.2500  \n",
       "1  female  38.0                        1                        0  71.2833  \n",
       "2  female  26.0                        0                        0   7.9250  \n",
       "3  female  35.0                        1                        0  53.1000  \n",
       "4    male  35.0                        0                        0   8.0500  "
      ]
     },
     "execution_count": 5,
     "metadata": {},
     "output_type": "execute_result"
    }
   ],
   "source": [
    "data.head()"
   ]
  },
  {
   "cell_type": "code",
   "execution_count": 6,
   "metadata": {},
   "outputs": [
    {
     "data": {
      "text/plain": [
       "(887, 8)"
      ]
     },
     "execution_count": 6,
     "metadata": {},
     "output_type": "execute_result"
    }
   ],
   "source": [
    "data.shape"
   ]
  },
  {
   "cell_type": "code",
   "execution_count": 7,
   "metadata": {},
   "outputs": [
    {
     "data": {
      "text/plain": [
       "Survived                   0\n",
       "Pclass                     0\n",
       "Name                       0\n",
       "Sex                        0\n",
       "Age                        0\n",
       "Siblings/Spouses Aboard    0\n",
       "Parents/Children Aboard    0\n",
       "Fare                       0\n",
       "dtype: int64"
      ]
     },
     "execution_count": 7,
     "metadata": {},
     "output_type": "execute_result"
    }
   ],
   "source": [
    "data.isnull().sum()"
   ]
  },
  {
   "cell_type": "code",
   "execution_count": 8,
   "metadata": {},
   "outputs": [],
   "source": [
    "from sklearn.preprocessing import LabelEncoder"
   ]
  },
  {
   "cell_type": "code",
   "execution_count": 9,
   "metadata": {},
   "outputs": [],
   "source": [
    "n_gender=LabelEncoder()\n",
    "data['n_gender']=n_gender.fit_transform(data['Sex'])"
   ]
  },
  {
   "cell_type": "code",
   "execution_count": 10,
   "metadata": {},
   "outputs": [
    {
     "data": {
      "text/html": [
       "<div>\n",
       "<style scoped>\n",
       "    .dataframe tbody tr th:only-of-type {\n",
       "        vertical-align: middle;\n",
       "    }\n",
       "\n",
       "    .dataframe tbody tr th {\n",
       "        vertical-align: top;\n",
       "    }\n",
       "\n",
       "    .dataframe thead th {\n",
       "        text-align: right;\n",
       "    }\n",
       "</style>\n",
       "<table border=\"1\" class=\"dataframe\">\n",
       "  <thead>\n",
       "    <tr style=\"text-align: right;\">\n",
       "      <th></th>\n",
       "      <th>Survived</th>\n",
       "      <th>Pclass</th>\n",
       "      <th>Name</th>\n",
       "      <th>Sex</th>\n",
       "      <th>Age</th>\n",
       "      <th>Siblings/Spouses Aboard</th>\n",
       "      <th>Parents/Children Aboard</th>\n",
       "      <th>Fare</th>\n",
       "      <th>n_gender</th>\n",
       "    </tr>\n",
       "  </thead>\n",
       "  <tbody>\n",
       "    <tr>\n",
       "      <th>0</th>\n",
       "      <td>0</td>\n",
       "      <td>3</td>\n",
       "      <td>Mr. Owen Harris Braund</td>\n",
       "      <td>male</td>\n",
       "      <td>22.0</td>\n",
       "      <td>1</td>\n",
       "      <td>0</td>\n",
       "      <td>7.2500</td>\n",
       "      <td>1</td>\n",
       "    </tr>\n",
       "    <tr>\n",
       "      <th>1</th>\n",
       "      <td>1</td>\n",
       "      <td>1</td>\n",
       "      <td>Mrs. John Bradley (Florence Briggs Thayer) Cum...</td>\n",
       "      <td>female</td>\n",
       "      <td>38.0</td>\n",
       "      <td>1</td>\n",
       "      <td>0</td>\n",
       "      <td>71.2833</td>\n",
       "      <td>0</td>\n",
       "    </tr>\n",
       "    <tr>\n",
       "      <th>2</th>\n",
       "      <td>1</td>\n",
       "      <td>3</td>\n",
       "      <td>Miss. Laina Heikkinen</td>\n",
       "      <td>female</td>\n",
       "      <td>26.0</td>\n",
       "      <td>0</td>\n",
       "      <td>0</td>\n",
       "      <td>7.9250</td>\n",
       "      <td>0</td>\n",
       "    </tr>\n",
       "    <tr>\n",
       "      <th>3</th>\n",
       "      <td>1</td>\n",
       "      <td>1</td>\n",
       "      <td>Mrs. Jacques Heath (Lily May Peel) Futrelle</td>\n",
       "      <td>female</td>\n",
       "      <td>35.0</td>\n",
       "      <td>1</td>\n",
       "      <td>0</td>\n",
       "      <td>53.1000</td>\n",
       "      <td>0</td>\n",
       "    </tr>\n",
       "    <tr>\n",
       "      <th>4</th>\n",
       "      <td>0</td>\n",
       "      <td>3</td>\n",
       "      <td>Mr. William Henry Allen</td>\n",
       "      <td>male</td>\n",
       "      <td>35.0</td>\n",
       "      <td>0</td>\n",
       "      <td>0</td>\n",
       "      <td>8.0500</td>\n",
       "      <td>1</td>\n",
       "    </tr>\n",
       "  </tbody>\n",
       "</table>\n",
       "</div>"
      ],
      "text/plain": [
       "   Survived  Pclass                                               Name  \\\n",
       "0         0       3                             Mr. Owen Harris Braund   \n",
       "1         1       1  Mrs. John Bradley (Florence Briggs Thayer) Cum...   \n",
       "2         1       3                              Miss. Laina Heikkinen   \n",
       "3         1       1        Mrs. Jacques Heath (Lily May Peel) Futrelle   \n",
       "4         0       3                            Mr. William Henry Allen   \n",
       "\n",
       "      Sex   Age  Siblings/Spouses Aboard  Parents/Children Aboard     Fare  \\\n",
       "0    male  22.0                        1                        0   7.2500   \n",
       "1  female  38.0                        1                        0  71.2833   \n",
       "2  female  26.0                        0                        0   7.9250   \n",
       "3  female  35.0                        1                        0  53.1000   \n",
       "4    male  35.0                        0                        0   8.0500   \n",
       "\n",
       "   n_gender  \n",
       "0         1  \n",
       "1         0  \n",
       "2         0  \n",
       "3         0  \n",
       "4         1  "
      ]
     },
     "execution_count": 10,
     "metadata": {},
     "output_type": "execute_result"
    }
   ],
   "source": [
    "data.head()"
   ]
  },
  {
   "cell_type": "code",
   "execution_count": 11,
   "metadata": {},
   "outputs": [],
   "source": [
    "feature=data[[ 'Pclass','n_gender','Age','Siblings/Spouses Aboard','Parents/Children Aboard','Fare']]\n",
    "target=data['Survived']"
   ]
  },
  {
   "cell_type": "code",
   "execution_count": null,
   "metadata": {},
   "outputs": [],
   "source": []
  },
  {
   "cell_type": "code",
   "execution_count": null,
   "metadata": {},
   "outputs": [],
   "source": []
  },
  {
   "cell_type": "code",
   "execution_count": 12,
   "metadata": {},
   "outputs": [],
   "source": [
    "from sklearn.model_selection import train_test_split"
   ]
  },
  {
   "cell_type": "code",
   "execution_count": 13,
   "metadata": {},
   "outputs": [],
   "source": [
    "X_train, X_test, y_train, y_test = train_test_split(feature, target, test_size=0.33, random_state=42)"
   ]
  },
  {
   "cell_type": "code",
   "execution_count": null,
   "metadata": {},
   "outputs": [],
   "source": []
  },
  {
   "cell_type": "code",
   "execution_count": null,
   "metadata": {},
   "outputs": [],
   "source": []
  },
  {
   "cell_type": "code",
   "execution_count": 14,
   "metadata": {},
   "outputs": [],
   "source": [
    "#### LOGISTIC REGRESSION\n",
    "from sklearn.linear_model import LogisticRegression"
   ]
  },
  {
   "cell_type": "code",
   "execution_count": 15,
   "metadata": {},
   "outputs": [],
   "source": [
    "logisticRegr = LogisticRegression()"
   ]
  },
  {
   "cell_type": "code",
   "execution_count": 16,
   "metadata": {},
   "outputs": [
    {
     "data": {
      "text/plain": [
       "LogisticRegression()"
      ]
     },
     "execution_count": 16,
     "metadata": {},
     "output_type": "execute_result"
    }
   ],
   "source": [
    "logisticRegr.fit(X_train, y_train)"
   ]
  },
  {
   "cell_type": "code",
   "execution_count": 17,
   "metadata": {},
   "outputs": [],
   "source": [
    "predictions = logisticRegr.predict(X_test)"
   ]
  },
  {
   "cell_type": "code",
   "execution_count": 18,
   "metadata": {
    "scrolled": true
   },
   "outputs": [
    {
     "name": "stdout",
     "output_type": "stream",
     "text": [
      "0.7781569965870307\n"
     ]
    }
   ],
   "source": [
    "score = logisticRegr.score(X_test, y_test)\n",
    "print(score)"
   ]
  },
  {
   "cell_type": "code",
   "execution_count": 19,
   "metadata": {},
   "outputs": [],
   "source": [
    "from sklearn.metrics import accuracy_score"
   ]
  },
  {
   "cell_type": "code",
   "execution_count": 20,
   "metadata": {},
   "outputs": [],
   "source": [
    "from sklearn import metrics"
   ]
  },
  {
   "cell_type": "code",
   "execution_count": 21,
   "metadata": {
    "scrolled": true
   },
   "outputs": [
    {
     "data": {
      "text/plain": [
       "0.7781569965870307"
      ]
     },
     "execution_count": 21,
     "metadata": {},
     "output_type": "execute_result"
    }
   ],
   "source": [
    "metrics.accuracy_score(y_test, predictions.round())"
   ]
  },
  {
   "cell_type": "code",
   "execution_count": null,
   "metadata": {},
   "outputs": [],
   "source": []
  },
  {
   "cell_type": "code",
   "execution_count": null,
   "metadata": {},
   "outputs": [],
   "source": []
  },
  {
   "cell_type": "code",
   "execution_count": 22,
   "metadata": {},
   "outputs": [],
   "source": [
    "#### LINEAR REGRESSION\n",
    "from sklearn.linear_model import LinearRegression"
   ]
  },
  {
   "cell_type": "code",
   "execution_count": 23,
   "metadata": {},
   "outputs": [],
   "source": [
    "linearRegr = LinearRegression()"
   ]
  },
  {
   "cell_type": "code",
   "execution_count": 24,
   "metadata": {},
   "outputs": [
    {
     "data": {
      "text/plain": [
       "LinearRegression()"
      ]
     },
     "execution_count": 24,
     "metadata": {},
     "output_type": "execute_result"
    }
   ],
   "source": [
    "linearRegr.fit(X_train, y_train)"
   ]
  },
  {
   "cell_type": "code",
   "execution_count": 25,
   "metadata": {},
   "outputs": [],
   "source": [
    "predictions1 = linearRegr.predict(X_test)"
   ]
  },
  {
   "cell_type": "code",
   "execution_count": 26,
   "metadata": {
    "scrolled": true
   },
   "outputs": [
    {
     "name": "stdout",
     "output_type": "stream",
     "text": [
      "0.3182461104577867\n"
     ]
    }
   ],
   "source": [
    "score1 = linearRegr.score(X_test, y_test)\n",
    "print(score1)"
   ]
  },
  {
   "cell_type": "code",
   "execution_count": 27,
   "metadata": {},
   "outputs": [
    {
     "name": "stdout",
     "output_type": "stream",
     "text": [
      "0.43231512977075637\n"
     ]
    }
   ],
   "source": [
    "s = linearRegr.score(X_train, y_train)\n",
    "print(s)"
   ]
  },
  {
   "cell_type": "code",
   "execution_count": 28,
   "metadata": {
    "scrolled": true
   },
   "outputs": [
    {
     "data": {
      "text/plain": [
       "0.7610921501706485"
      ]
     },
     "execution_count": 28,
     "metadata": {},
     "output_type": "execute_result"
    }
   ],
   "source": [
    "metrics.accuracy_score(y_test, predictions1.round())"
   ]
  },
  {
   "cell_type": "code",
   "execution_count": null,
   "metadata": {},
   "outputs": [],
   "source": []
  },
  {
   "cell_type": "code",
   "execution_count": null,
   "metadata": {},
   "outputs": [],
   "source": []
  },
  {
   "cell_type": "code",
   "execution_count": 29,
   "metadata": {},
   "outputs": [],
   "source": [
    "#### naive bayes\n",
    "from sklearn.naive_bayes import MultinomialNB"
   ]
  },
  {
   "cell_type": "code",
   "execution_count": 30,
   "metadata": {},
   "outputs": [],
   "source": [
    "nb= MultinomialNB()"
   ]
  },
  {
   "cell_type": "code",
   "execution_count": 31,
   "metadata": {},
   "outputs": [
    {
     "data": {
      "text/plain": [
       "MultinomialNB()"
      ]
     },
     "execution_count": 31,
     "metadata": {},
     "output_type": "execute_result"
    }
   ],
   "source": [
    "nb.fit(X_train,y_train)"
   ]
  },
  {
   "cell_type": "code",
   "execution_count": 32,
   "metadata": {},
   "outputs": [],
   "source": [
    "predic=nb.predict(X_test)"
   ]
  },
  {
   "cell_type": "code",
   "execution_count": 33,
   "metadata": {},
   "outputs": [
    {
     "name": "stdout",
     "output_type": "stream",
     "text": [
      "0.6860068259385665\n"
     ]
    }
   ],
   "source": [
    "score2 = nb.score(X_test, y_test)\n",
    "print(score2)"
   ]
  },
  {
   "cell_type": "code",
   "execution_count": 34,
   "metadata": {
    "scrolled": true
   },
   "outputs": [
    {
     "data": {
      "text/plain": [
       "0.6860068259385665"
      ]
     },
     "execution_count": 34,
     "metadata": {},
     "output_type": "execute_result"
    }
   ],
   "source": [
    "metrics.accuracy_score(y_test,predic)"
   ]
  },
  {
   "cell_type": "code",
   "execution_count": null,
   "metadata": {},
   "outputs": [],
   "source": []
  },
  {
   "cell_type": "code",
   "execution_count": null,
   "metadata": {},
   "outputs": [],
   "source": []
  },
  {
   "cell_type": "code",
   "execution_count": 35,
   "metadata": {},
   "outputs": [],
   "source": [
    "#### Support vector Classifier\n",
    "from sklearn.svm import SVC"
   ]
  },
  {
   "cell_type": "code",
   "execution_count": 36,
   "metadata": {},
   "outputs": [],
   "source": [
    "sv=SVC()"
   ]
  },
  {
   "cell_type": "code",
   "execution_count": 37,
   "metadata": {},
   "outputs": [
    {
     "data": {
      "text/plain": [
       "SVC()"
      ]
     },
     "execution_count": 37,
     "metadata": {},
     "output_type": "execute_result"
    }
   ],
   "source": [
    "sv.fit(X_train,y_train)"
   ]
  },
  {
   "cell_type": "code",
   "execution_count": 38,
   "metadata": {
    "scrolled": false
   },
   "outputs": [
    {
     "name": "stdout",
     "output_type": "stream",
     "text": [
      "0.658703071672355\n"
     ]
    }
   ],
   "source": [
    "score3=sv.score(X_test, y_test)\n",
    "print(score3)"
   ]
  },
  {
   "cell_type": "code",
   "execution_count": 39,
   "metadata": {},
   "outputs": [],
   "source": [
    "prediction2=sv.predict(X_test)"
   ]
  },
  {
   "cell_type": "code",
   "execution_count": 40,
   "metadata": {
    "scrolled": true
   },
   "outputs": [
    {
     "data": {
      "text/plain": [
       "0.658703071672355"
      ]
     },
     "execution_count": 40,
     "metadata": {},
     "output_type": "execute_result"
    }
   ],
   "source": [
    "metrics.accuracy_score(y_test,prediction2)"
   ]
  },
  {
   "cell_type": "code",
   "execution_count": null,
   "metadata": {},
   "outputs": [],
   "source": []
  },
  {
   "cell_type": "code",
   "execution_count": null,
   "metadata": {},
   "outputs": [],
   "source": []
  },
  {
   "cell_type": "code",
   "execution_count": 41,
   "metadata": {},
   "outputs": [],
   "source": [
    "### KNN classifier\n",
    "from sklearn.neighbors import KNeighborsClassifier"
   ]
  },
  {
   "cell_type": "code",
   "execution_count": 42,
   "metadata": {},
   "outputs": [],
   "source": [
    "neigh = KNeighborsClassifier(n_neighbors=3)"
   ]
  },
  {
   "cell_type": "code",
   "execution_count": 43,
   "metadata": {},
   "outputs": [
    {
     "data": {
      "text/plain": [
       "KNeighborsClassifier(n_neighbors=3)"
      ]
     },
     "execution_count": 43,
     "metadata": {},
     "output_type": "execute_result"
    }
   ],
   "source": [
    "neigh.fit(X_train, y_train)"
   ]
  },
  {
   "cell_type": "code",
   "execution_count": 44,
   "metadata": {},
   "outputs": [
    {
     "name": "stdout",
     "output_type": "stream",
     "text": [
      "0.6689419795221843\n"
     ]
    }
   ],
   "source": [
    "score4=neigh.score(X_test, y_test)\n",
    "print(score4)"
   ]
  },
  {
   "cell_type": "code",
   "execution_count": 45,
   "metadata": {},
   "outputs": [],
   "source": [
    "prediction3=neigh.predict(X_test)"
   ]
  },
  {
   "cell_type": "code",
   "execution_count": 46,
   "metadata": {},
   "outputs": [
    {
     "data": {
      "text/plain": [
       "0.6689419795221843"
      ]
     },
     "execution_count": 46,
     "metadata": {},
     "output_type": "execute_result"
    }
   ],
   "source": [
    "metrics.accuracy_score(y_test,prediction3)"
   ]
  },
  {
   "cell_type": "code",
   "execution_count": null,
   "metadata": {},
   "outputs": [],
   "source": []
  },
  {
   "cell_type": "code",
   "execution_count": null,
   "metadata": {},
   "outputs": [],
   "source": []
  },
  {
   "cell_type": "code",
   "execution_count": 47,
   "metadata": {},
   "outputs": [],
   "source": [
    "### decision tree"
   ]
  },
  {
   "cell_type": "code",
   "execution_count": 48,
   "metadata": {},
   "outputs": [],
   "source": [
    "from sklearn import tree\n",
    "clf = tree.DecisionTreeClassifier()\n",
    "clf = clf.fit(X_train, y_train)"
   ]
  },
  {
   "cell_type": "code",
   "execution_count": 49,
   "metadata": {},
   "outputs": [
    {
     "data": {
      "text/plain": [
       "[Text(110.20586324257427, 212.26285714285714, 'X[1] <= 0.5\\ngini = 0.473\\nsamples = 594\\nvalue = [366, 228]'),\n",
       " Text(46.82227722772278, 201.90857142857143, 'X[0] <= 2.5\\ngini = 0.373\\nsamples = 222\\nvalue = [55, 167]'),\n",
       " Text(13.25940594059406, 191.5542857142857, 'X[2] <= 2.5\\ngini = 0.062\\nsamples = 125\\nvalue = [4, 121]'),\n",
       " Text(6.62970297029703, 181.2, 'X[0] <= 1.5\\ngini = 0.5\\nsamples = 2\\nvalue = [1, 1]'),\n",
       " Text(3.314851485148515, 170.84571428571428, 'gini = 0.0\\nsamples = 1\\nvalue = [1, 0]'),\n",
       " Text(9.944554455445545, 170.84571428571428, 'gini = 0.0\\nsamples = 1\\nvalue = [0, 1]'),\n",
       " Text(19.88910891089109, 181.2, 'X[5] <= 29.356\\ngini = 0.048\\nsamples = 123\\nvalue = [3, 120]'),\n",
       " Text(16.574257425742577, 170.84571428571428, 'X[5] <= 28.231\\ngini = 0.117\\nsamples = 48\\nvalue = [3, 45]'),\n",
       " Text(13.25940594059406, 160.49142857142857, 'X[3] <= 0.5\\ngini = 0.081\\nsamples = 47\\nvalue = [2, 45]'),\n",
       " Text(9.944554455445545, 150.13714285714286, 'gini = 0.0\\nsamples = 31\\nvalue = [0, 31]'),\n",
       " Text(16.574257425742577, 150.13714285714286, 'X[2] <= 27.5\\ngini = 0.219\\nsamples = 16\\nvalue = [2, 14]'),\n",
       " Text(13.25940594059406, 139.78285714285715, 'X[2] <= 25.0\\ngini = 0.408\\nsamples = 7\\nvalue = [2, 5]'),\n",
       " Text(9.944554455445545, 129.42857142857144, 'gini = 0.0\\nsamples = 5\\nvalue = [0, 5]'),\n",
       " Text(16.574257425742577, 129.42857142857144, 'gini = 0.0\\nsamples = 2\\nvalue = [2, 0]'),\n",
       " Text(19.88910891089109, 139.78285714285715, 'gini = 0.0\\nsamples = 9\\nvalue = [0, 9]'),\n",
       " Text(19.88910891089109, 160.49142857142857, 'gini = 0.0\\nsamples = 1\\nvalue = [1, 0]'),\n",
       " Text(23.203960396039605, 170.84571428571428, 'gini = 0.0\\nsamples = 75\\nvalue = [0, 75]'),\n",
       " Text(80.3851485148515, 191.5542857142857, 'X[5] <= 22.904\\ngini = 0.499\\nsamples = 97\\nvalue = [51, 46]'),\n",
       " Text(61.32475247524753, 181.2, 'X[2] <= 27.5\\ngini = 0.492\\nsamples = 78\\nvalue = [34, 44]'),\n",
       " Text(43.093069306930694, 170.84571428571428, 'X[3] <= 2.5\\ngini = 0.458\\nsamples = 59\\nvalue = [21, 38]'),\n",
       " Text(39.77821782178218, 160.49142857142857, 'X[2] <= 7.0\\ngini = 0.444\\nsamples = 57\\nvalue = [19, 38]'),\n",
       " Text(36.46336633663367, 150.13714285714286, 'gini = 0.0\\nsamples = 9\\nvalue = [0, 9]'),\n",
       " Text(43.093069306930694, 150.13714285714286, 'X[5] <= 7.902\\ngini = 0.478\\nsamples = 48\\nvalue = [19, 29]'),\n",
       " Text(26.51881188118812, 139.78285714285715, 'X[5] <= 7.523\\ngini = 0.365\\nsamples = 25\\nvalue = [6, 19]'),\n",
       " Text(23.203960396039605, 129.42857142857144, 'gini = 0.0\\nsamples = 5\\nvalue = [0, 5]'),\n",
       " Text(29.833663366336637, 129.42857142857144, 'X[2] <= 15.0\\ngini = 0.42\\nsamples = 20\\nvalue = [6, 14]'),\n",
       " Text(26.51881188118812, 119.07428571428571, 'gini = 0.0\\nsamples = 1\\nvalue = [1, 0]'),\n",
       " Text(33.14851485148515, 119.07428571428571, 'X[5] <= 7.815\\ngini = 0.388\\nsamples = 19\\nvalue = [5, 14]'),\n",
       " Text(29.833663366336637, 108.72, 'X[5] <= 7.763\\ngini = 0.444\\nsamples = 15\\nvalue = [5, 10]'),\n",
       " Text(23.203960396039605, 98.36571428571429, 'X[2] <= 21.5\\ngini = 0.375\\nsamples = 12\\nvalue = [3, 9]'),\n",
       " Text(19.88910891089109, 88.01142857142858, 'X[2] <= 20.0\\ngini = 0.469\\nsamples = 8\\nvalue = [3, 5]'),\n",
       " Text(16.574257425742577, 77.65714285714284, 'gini = 0.0\\nsamples = 3\\nvalue = [0, 3]'),\n",
       " Text(23.203960396039605, 77.65714285714284, 'X[5] <= 7.6\\ngini = 0.48\\nsamples = 5\\nvalue = [3, 2]'),\n",
       " Text(19.88910891089109, 67.30285714285714, 'gini = 0.0\\nsamples = 1\\nvalue = [1, 0]'),\n",
       " Text(26.51881188118812, 67.30285714285714, 'X[5] <= 7.7\\ngini = 0.5\\nsamples = 4\\nvalue = [2, 2]'),\n",
       " Text(23.203960396039605, 56.94857142857143, 'gini = 0.0\\nsamples = 1\\nvalue = [0, 1]'),\n",
       " Text(29.833663366336637, 56.94857142857143, 'gini = 0.444\\nsamples = 3\\nvalue = [2, 1]'),\n",
       " Text(26.51881188118812, 88.01142857142858, 'gini = 0.0\\nsamples = 4\\nvalue = [0, 4]'),\n",
       " Text(36.46336633663367, 98.36571428571429, 'X[2] <= 20.0\\ngini = 0.444\\nsamples = 3\\nvalue = [2, 1]'),\n",
       " Text(33.14851485148515, 88.01142857142858, 'gini = 0.0\\nsamples = 1\\nvalue = [1, 0]'),\n",
       " Text(39.77821782178218, 88.01142857142858, 'X[2] <= 23.5\\ngini = 0.5\\nsamples = 2\\nvalue = [1, 1]'),\n",
       " Text(36.46336633663367, 77.65714285714284, 'gini = 0.0\\nsamples = 1\\nvalue = [0, 1]'),\n",
       " Text(43.093069306930694, 77.65714285714284, 'gini = 0.0\\nsamples = 1\\nvalue = [1, 0]'),\n",
       " Text(36.46336633663367, 108.72, 'gini = 0.0\\nsamples = 4\\nvalue = [0, 4]'),\n",
       " Text(59.667326732673274, 139.78285714285715, 'X[4] <= 1.5\\ngini = 0.491\\nsamples = 23\\nvalue = [13, 10]'),\n",
       " Text(56.35247524752476, 129.42857142857144, 'X[2] <= 26.5\\ngini = 0.432\\nsamples = 19\\nvalue = [13, 6]'),\n",
       " Text(53.03762376237624, 119.07428571428571, 'X[2] <= 19.0\\ngini = 0.401\\nsamples = 18\\nvalue = [13, 5]'),\n",
       " Text(46.40792079207921, 108.72, 'X[5] <= 12.148\\ngini = 0.494\\nsamples = 9\\nvalue = [5, 4]'),\n",
       " Text(43.093069306930694, 98.36571428571429, 'gini = 0.0\\nsamples = 2\\nvalue = [0, 2]'),\n",
       " Text(49.722772277227726, 98.36571428571429, 'X[5] <= 15.373\\ngini = 0.408\\nsamples = 7\\nvalue = [5, 2]'),\n",
       " Text(46.40792079207921, 88.01142857142858, 'gini = 0.0\\nsamples = 3\\nvalue = [3, 0]'),\n",
       " Text(53.03762376237624, 88.01142857142858, 'X[5] <= 16.65\\ngini = 0.5\\nsamples = 4\\nvalue = [2, 2]'),\n",
       " Text(49.722772277227726, 77.65714285714284, 'gini = 0.0\\nsamples = 2\\nvalue = [0, 2]'),\n",
       " Text(56.35247524752476, 77.65714285714284, 'gini = 0.0\\nsamples = 2\\nvalue = [2, 0]'),\n",
       " Text(59.667326732673274, 108.72, 'X[5] <= 13.008\\ngini = 0.198\\nsamples = 9\\nvalue = [8, 1]'),\n",
       " Text(56.35247524752476, 98.36571428571429, 'gini = 0.0\\nsamples = 7\\nvalue = [7, 0]'),\n",
       " Text(62.98217821782179, 98.36571428571429, 'X[5] <= 15.8\\ngini = 0.5\\nsamples = 2\\nvalue = [1, 1]'),\n",
       " Text(59.667326732673274, 88.01142857142858, 'gini = 0.0\\nsamples = 1\\nvalue = [0, 1]'),\n",
       " Text(66.2970297029703, 88.01142857142858, 'gini = 0.0\\nsamples = 1\\nvalue = [1, 0]'),\n",
       " Text(59.667326732673274, 119.07428571428571, 'gini = 0.0\\nsamples = 1\\nvalue = [0, 1]'),\n",
       " Text(62.98217821782179, 129.42857142857144, 'gini = 0.0\\nsamples = 4\\nvalue = [0, 4]'),\n",
       " Text(46.40792079207921, 160.49142857142857, 'gini = 0.0\\nsamples = 2\\nvalue = [2, 0]'),\n",
       " Text(79.55643564356436, 170.84571428571428, 'X[2] <= 32.5\\ngini = 0.432\\nsamples = 19\\nvalue = [13, 6]'),\n",
       " Text(72.92673267326734, 160.49142857142857, 'X[2] <= 30.75\\ngini = 0.198\\nsamples = 9\\nvalue = [8, 1]'),\n",
       " Text(69.61188118811882, 150.13714285714286, 'gini = 0.0\\nsamples = 5\\nvalue = [5, 0]'),\n",
       " Text(76.24158415841585, 150.13714285714286, 'X[5] <= 12.092\\ngini = 0.375\\nsamples = 4\\nvalue = [3, 1]'),\n",
       " Text(72.92673267326734, 139.78285714285715, 'X[5] <= 8.367\\ngini = 0.5\\nsamples = 2\\nvalue = [1, 1]'),\n",
       " Text(69.61188118811882, 129.42857142857144, 'gini = 0.0\\nsamples = 1\\nvalue = [1, 0]'),\n",
       " Text(76.24158415841585, 129.42857142857144, 'gini = 0.0\\nsamples = 1\\nvalue = [0, 1]'),\n",
       " Text(79.55643564356436, 139.78285714285715, 'gini = 0.0\\nsamples = 2\\nvalue = [2, 0]'),\n",
       " Text(86.18613861386139, 160.49142857142857, 'X[2] <= 38.0\\ngini = 0.5\\nsamples = 10\\nvalue = [5, 5]'),\n",
       " Text(82.87128712871288, 150.13714285714286, 'gini = 0.0\\nsamples = 4\\nvalue = [0, 4]'),\n",
       " Text(89.50099009900991, 150.13714285714286, 'X[2] <= 62.5\\ngini = 0.278\\nsamples = 6\\nvalue = [5, 1]'),\n",
       " Text(86.18613861386139, 139.78285714285715, 'gini = 0.0\\nsamples = 5\\nvalue = [5, 0]'),\n",
       " Text(92.81584158415842, 139.78285714285715, 'gini = 0.0\\nsamples = 1\\nvalue = [0, 1]'),\n",
       " Text(99.44554455445545, 181.2, 'X[4] <= 0.5\\ngini = 0.188\\nsamples = 19\\nvalue = [17, 2]'),\n",
       " Text(96.13069306930694, 170.84571428571428, 'gini = 0.0\\nsamples = 1\\nvalue = [0, 1]'),\n",
       " Text(102.76039603960398, 170.84571428571428, 'X[2] <= 5.5\\ngini = 0.105\\nsamples = 18\\nvalue = [17, 1]'),\n",
       " Text(99.44554455445545, 160.49142857142857, 'X[2] <= 4.0\\ngini = 0.444\\nsamples = 3\\nvalue = [2, 1]'),\n",
       " Text(96.13069306930694, 150.13714285714286, 'gini = 0.0\\nsamples = 2\\nvalue = [2, 0]'),\n",
       " Text(102.76039603960398, 150.13714285714286, 'gini = 0.0\\nsamples = 1\\nvalue = [0, 1]'),\n",
       " Text(106.07524752475248, 160.49142857142857, 'gini = 0.0\\nsamples = 15\\nvalue = [15, 0]'),\n",
       " Text(173.58944925742577, 201.90857142857143, 'X[2] <= 1.5\\ngini = 0.274\\nsamples = 372\\nvalue = [311, 61]'),\n",
       " Text(128.86485148514853, 191.5542857142857, 'X[3] <= 3.0\\ngini = 0.408\\nsamples = 7\\nvalue = [2, 5]'),\n",
       " Text(125.55000000000001, 181.2, 'gini = 0.0\\nsamples = 5\\nvalue = [0, 5]'),\n",
       " Text(132.17970297029703, 181.2, 'gini = 0.0\\nsamples = 2\\nvalue = [2, 0]'),\n",
       " Text(218.31404702970298, 191.5542857142857, 'X[0] <= 1.5\\ngini = 0.26\\nsamples = 365\\nvalue = [309, 56]'),\n",
       " Text(138.80940594059408, 181.2, 'X[2] <= 52.5\\ngini = 0.405\\nsamples = 71\\nvalue = [51, 20]'),\n",
       " Text(126.7930693069307, 170.84571428571428, 'X[5] <= 27.135\\ngini = 0.448\\nsamples = 56\\nvalue = [37, 19]'),\n",
       " Text(112.70495049504952, 160.49142857142857, 'X[5] <= 25.938\\ngini = 0.49\\nsamples = 14\\nvalue = [6, 8]'),\n",
       " Text(109.390099009901, 150.13714285714286, 'gini = 0.0\\nsamples = 5\\nvalue = [5, 0]'),\n",
       " Text(116.01980198019803, 150.13714285714286, 'X[2] <= 39.0\\ngini = 0.198\\nsamples = 9\\nvalue = [1, 8]'),\n",
       " Text(112.70495049504952, 139.78285714285715, 'gini = 0.0\\nsamples = 4\\nvalue = [0, 4]'),\n",
       " Text(119.33465346534655, 139.78285714285715, 'X[2] <= 41.5\\ngini = 0.32\\nsamples = 5\\nvalue = [1, 4]'),\n",
       " Text(116.01980198019803, 129.42857142857144, 'gini = 0.0\\nsamples = 1\\nvalue = [1, 0]'),\n",
       " Text(122.64950495049506, 129.42857142857144, 'gini = 0.0\\nsamples = 4\\nvalue = [0, 4]'),\n",
       " Text(140.8811881188119, 160.49142857142857, 'X[2] <= 17.5\\ngini = 0.387\\nsamples = 42\\nvalue = [31, 11]'),\n",
       " Text(137.56633663366338, 150.13714285714286, 'gini = 0.0\\nsamples = 1\\nvalue = [0, 1]'),\n",
       " Text(144.1960396039604, 150.13714285714286, 'X[5] <= 387.665\\ngini = 0.369\\nsamples = 41\\nvalue = [31, 10]'),\n",
       " Text(140.8811881188119, 139.78285714285715, 'X[3] <= 0.5\\ngini = 0.349\\nsamples = 40\\nvalue = [31, 9]'),\n",
       " Text(129.2792079207921, 129.42857142857144, 'X[2] <= 29.5\\ngini = 0.219\\nsamples = 24\\nvalue = [21, 3]'),\n",
       " Text(125.96435643564358, 119.07428571428571, 'X[2] <= 25.5\\ngini = 0.49\\nsamples = 7\\nvalue = [4, 3]'),\n",
       " Text(122.64950495049506, 108.72, 'gini = 0.0\\nsamples = 3\\nvalue = [3, 0]'),\n",
       " Text(129.2792079207921, 108.72, 'X[2] <= 27.5\\ngini = 0.375\\nsamples = 4\\nvalue = [1, 3]'),\n",
       " Text(125.96435643564358, 98.36571428571429, 'gini = 0.0\\nsamples = 2\\nvalue = [0, 2]'),\n",
       " Text(132.5940594059406, 98.36571428571429, 'X[2] <= 28.5\\ngini = 0.5\\nsamples = 2\\nvalue = [1, 1]'),\n",
       " Text(129.2792079207921, 88.01142857142858, 'gini = 0.0\\nsamples = 1\\nvalue = [1, 0]'),\n",
       " Text(135.9089108910891, 88.01142857142858, 'gini = 0.0\\nsamples = 1\\nvalue = [0, 1]'),\n",
       " Text(132.5940594059406, 119.07428571428571, 'gini = 0.0\\nsamples = 17\\nvalue = [17, 0]'),\n",
       " Text(152.4831683168317, 129.42857142857144, 'X[2] <= 29.5\\ngini = 0.469\\nsamples = 16\\nvalue = [10, 6]'),\n",
       " Text(149.16831683168317, 119.07428571428571, 'gini = 0.0\\nsamples = 4\\nvalue = [4, 0]'),\n",
       " Text(155.79801980198022, 119.07428571428571, 'X[2] <= 47.0\\ngini = 0.5\\nsamples = 12\\nvalue = [6, 6]'),\n",
       " Text(149.16831683168317, 108.72, 'X[5] <= 86.737\\ngini = 0.469\\nsamples = 8\\nvalue = [5, 3]'),\n",
       " Text(145.85346534653468, 98.36571428571429, 'X[5] <= 59.087\\ngini = 0.408\\nsamples = 7\\nvalue = [5, 2]'),\n",
       " Text(142.53861386138615, 88.01142857142858, 'X[5] <= 52.277\\ngini = 0.5\\nsamples = 4\\nvalue = [2, 2]'),\n",
       " Text(139.22376237623763, 77.65714285714284, 'gini = 0.0\\nsamples = 2\\nvalue = [2, 0]'),\n",
       " Text(145.85346534653468, 77.65714285714284, 'gini = 0.0\\nsamples = 2\\nvalue = [0, 2]'),\n",
       " Text(149.16831683168317, 88.01142857142858, 'gini = 0.0\\nsamples = 3\\nvalue = [3, 0]'),\n",
       " Text(152.4831683168317, 98.36571428571429, 'gini = 0.0\\nsamples = 1\\nvalue = [0, 1]'),\n",
       " Text(162.42772277227724, 108.72, 'X[4] <= 0.5\\ngini = 0.375\\nsamples = 4\\nvalue = [1, 3]'),\n",
       " Text(159.1128712871287, 98.36571428571429, 'gini = 0.0\\nsamples = 3\\nvalue = [0, 3]'),\n",
       " Text(165.74257425742576, 98.36571428571429, 'gini = 0.0\\nsamples = 1\\nvalue = [1, 0]'),\n",
       " Text(147.51089108910892, 139.78285714285715, 'gini = 0.0\\nsamples = 1\\nvalue = [0, 1]'),\n",
       " Text(150.82574257425745, 170.84571428571428, 'X[2] <= 75.5\\ngini = 0.124\\nsamples = 15\\nvalue = [14, 1]'),\n",
       " Text(147.51089108910892, 160.49142857142857, 'gini = 0.0\\nsamples = 14\\nvalue = [14, 0]'),\n",
       " Text(154.14059405940594, 160.49142857142857, 'gini = 0.0\\nsamples = 1\\nvalue = [0, 1]'),\n",
       " Text(297.8186881188119, 181.2, 'X[2] <= 32.25\\ngini = 0.215\\nsamples = 294\\nvalue = [258, 36]'),\n",
       " Text(270.78193069306934, 170.84571428571428, 'X[3] <= 1.5\\ngini = 0.266\\nsamples = 203\\nvalue = [171, 32]'),\n",
       " Text(267.4670792079208, 160.49142857142857, 'X[2] <= 10.0\\ngini = 0.289\\nsamples = 183\\nvalue = [151, 32]'),\n",
       " Text(264.1522277227723, 150.13714285714286, 'gini = 0.0\\nsamples = 4\\nvalue = [0, 4]'),\n",
       " Text(270.78193069306934, 150.13714285714286, 'X[2] <= 31.5\\ngini = 0.264\\nsamples = 179\\nvalue = [151, 28]'),\n",
       " Text(246.5420792079208, 139.78285714285715, 'X[5] <= 19.377\\ngini = 0.248\\nsamples = 172\\nvalue = [147, 25]'),\n",
       " Text(243.22722772277228, 129.42857142857144, 'X[4] <= 0.5\\ngini = 0.269\\nsamples = 156\\nvalue = [131, 25]'),\n",
       " Text(239.9123762376238, 119.07428571428571, 'X[2] <= 26.5\\ngini = 0.262\\nsamples = 155\\nvalue = [131, 24]'),\n",
       " Text(201.3772277227723, 108.72, 'X[5] <= 7.24\\ngini = 0.22\\nsamples = 111\\nvalue = [97, 14]'),\n",
       " Text(172.37227722772278, 98.36571428571429, 'X[5] <= 7.133\\ngini = 0.363\\nsamples = 21\\nvalue = [16, 5]'),\n",
       " Text(162.42772277227724, 88.01142857142858, 'X[2] <= 23.5\\ngini = 0.153\\nsamples = 12\\nvalue = [11, 1]'),\n",
       " Text(159.1128712871287, 77.65714285714284, 'gini = 0.0\\nsamples = 9\\nvalue = [9, 0]'),\n",
       " Text(165.74257425742576, 77.65714285714284, 'X[5] <= 3.525\\ngini = 0.444\\nsamples = 3\\nvalue = [2, 1]'),\n",
       " Text(162.42772277227724, 67.30285714285714, 'gini = 0.0\\nsamples = 1\\nvalue = [0, 1]'),\n",
       " Text(169.05742574257428, 67.30285714285714, 'gini = 0.0\\nsamples = 2\\nvalue = [2, 0]'),\n",
       " Text(182.31683168316835, 88.01142857142858, 'X[2] <= 24.5\\ngini = 0.494\\nsamples = 9\\nvalue = [5, 4]'),\n",
       " Text(179.00198019801982, 77.65714285714284, 'X[5] <= 7.227\\ngini = 0.49\\nsamples = 7\\nvalue = [3, 4]'),\n",
       " Text(175.6871287128713, 67.30285714285714, 'gini = 0.0\\nsamples = 2\\nvalue = [0, 2]'),\n",
       " Text(182.31683168316835, 67.30285714285714, 'X[2] <= 17.5\\ngini = 0.48\\nsamples = 5\\nvalue = [3, 2]'),\n",
       " Text(179.00198019801982, 56.94857142857143, 'gini = 0.0\\nsamples = 1\\nvalue = [1, 0]'),\n",
       " Text(185.63168316831684, 56.94857142857143, 'X[2] <= 21.0\\ngini = 0.5\\nsamples = 4\\nvalue = [2, 2]'),\n",
       " Text(182.31683168316835, 46.59428571428572, 'X[2] <= 19.0\\ngini = 0.444\\nsamples = 3\\nvalue = [1, 2]'),\n",
       " Text(179.00198019801982, 36.24000000000001, 'gini = 0.5\\nsamples = 2\\nvalue = [1, 1]'),\n",
       " Text(185.63168316831684, 36.24000000000001, 'gini = 0.0\\nsamples = 1\\nvalue = [0, 1]'),\n",
       " Text(188.94653465346536, 46.59428571428572, 'gini = 0.0\\nsamples = 1\\nvalue = [1, 0]'),\n",
       " Text(185.63168316831684, 77.65714285714284, 'gini = 0.0\\nsamples = 2\\nvalue = [2, 0]'),\n",
       " Text(230.3821782178218, 98.36571428571429, 'X[2] <= 19.5\\ngini = 0.18\\nsamples = 90\\nvalue = [81, 9]'),\n",
       " Text(207.1782178217822, 88.01142857142858, 'X[3] <= 0.5\\ngini = 0.33\\nsamples = 24\\nvalue = [19, 5]'),\n",
       " Text(203.86336633663367, 77.65714285714284, 'X[5] <= 7.742\\ngini = 0.287\\nsamples = 23\\nvalue = [19, 4]'),\n",
       " Text(200.54851485148515, 67.30285714285714, 'gini = 0.0\\nsamples = 4\\nvalue = [4, 0]'),\n",
       " Text(207.1782178217822, 67.30285714285714, 'X[5] <= 11.0\\ngini = 0.332\\nsamples = 19\\nvalue = [15, 4]'),\n",
       " Text(203.86336633663367, 56.94857142857143, 'X[5] <= 7.973\\ngini = 0.391\\nsamples = 15\\nvalue = [11, 4]'),\n",
       " Text(195.57623762376238, 46.59428571428572, 'X[5] <= 7.763\\ngini = 0.245\\nsamples = 7\\nvalue = [6, 1]'),\n",
       " Text(192.2613861386139, 36.24000000000001, 'X[2] <= 18.5\\ngini = 0.444\\nsamples = 3\\nvalue = [2, 1]'),\n",
       " Text(188.94653465346536, 25.8857142857143, 'gini = 0.0\\nsamples = 1\\nvalue = [1, 0]'),\n",
       " Text(195.57623762376238, 25.8857142857143, 'gini = 0.5\\nsamples = 2\\nvalue = [1, 1]'),\n",
       " Text(198.8910891089109, 36.24000000000001, 'gini = 0.0\\nsamples = 4\\nvalue = [4, 0]'),\n",
       " Text(212.15049504950497, 46.59428571428572, 'X[2] <= 17.5\\ngini = 0.469\\nsamples = 8\\nvalue = [5, 3]'),\n",
       " Text(205.52079207920795, 36.24000000000001, 'X[5] <= 8.356\\ngini = 0.32\\nsamples = 5\\nvalue = [4, 1]'),\n",
       " Text(202.20594059405943, 25.8857142857143, 'gini = 0.5\\nsamples = 2\\nvalue = [1, 1]'),\n",
       " Text(208.83564356435645, 25.8857142857143, 'gini = 0.0\\nsamples = 3\\nvalue = [3, 0]'),\n",
       " Text(218.780198019802, 36.24000000000001, 'X[5] <= 9.275\\ngini = 0.444\\nsamples = 3\\nvalue = [1, 2]'),\n",
       " Text(215.4653465346535, 25.8857142857143, 'gini = 0.0\\nsamples = 1\\nvalue = [0, 1]'),\n",
       " Text(222.0950495049505, 25.8857142857143, 'gini = 0.5\\nsamples = 2\\nvalue = [1, 1]'),\n",
       " Text(210.49306930693072, 56.94857142857143, 'gini = 0.0\\nsamples = 4\\nvalue = [4, 0]'),\n",
       " Text(210.49306930693072, 77.65714285714284, 'gini = 0.0\\nsamples = 1\\nvalue = [0, 1]'),\n",
       " Text(253.5861386138614, 88.01142857142858, 'X[5] <= 17.144\\ngini = 0.114\\nsamples = 66\\nvalue = [62, 4]'),\n",
       " Text(250.27128712871288, 77.65714285714284, 'X[3] <= 0.5\\ngini = 0.088\\nsamples = 65\\nvalue = [62, 3]'),\n",
       " Text(238.6693069306931, 67.30285714285714, 'X[0] <= 2.5\\ngini = 0.064\\nsamples = 60\\nvalue = [58, 2]'),\n",
       " Text(232.03960396039605, 56.94857142857143, 'X[2] <= 23.5\\ngini = 0.219\\nsamples = 8\\nvalue = [7, 1]'),\n",
       " Text(228.72475247524756, 46.59428571428572, 'X[5] <= 14.023\\ngini = 0.375\\nsamples = 4\\nvalue = [3, 1]'),\n",
       " Text(225.40990099009903, 36.24000000000001, 'gini = 0.444\\nsamples = 3\\nvalue = [2, 1]'),\n",
       " Text(232.03960396039605, 36.24000000000001, 'gini = 0.0\\nsamples = 1\\nvalue = [1, 0]'),\n",
       " Text(235.35445544554457, 46.59428571428572, 'gini = 0.0\\nsamples = 4\\nvalue = [4, 0]'),\n",
       " Text(245.29900990099011, 56.94857142857143, 'X[5] <= 7.798\\ngini = 0.038\\nsamples = 52\\nvalue = [51, 1]'),\n",
       " Text(241.9841584158416, 46.59428571428572, 'X[5] <= 7.785\\ngini = 0.105\\nsamples = 18\\nvalue = [17, 1]'),\n",
       " Text(238.6693069306931, 36.24000000000001, 'gini = 0.0\\nsamples = 15\\nvalue = [15, 0]'),\n",
       " Text(245.29900990099011, 36.24000000000001, 'X[2] <= 21.5\\ngini = 0.444\\nsamples = 3\\nvalue = [2, 1]'),\n",
       " Text(241.9841584158416, 25.8857142857143, 'gini = 0.0\\nsamples = 1\\nvalue = [0, 1]'),\n",
       " Text(248.61386138613864, 25.8857142857143, 'gini = 0.0\\nsamples = 2\\nvalue = [2, 0]'),\n",
       " Text(248.61386138613864, 46.59428571428572, 'gini = 0.0\\nsamples = 34\\nvalue = [34, 0]'),\n",
       " Text(261.8732673267327, 67.30285714285714, 'X[2] <= 20.5\\ngini = 0.32\\nsamples = 5\\nvalue = [4, 1]'),\n",
       " Text(258.5584158415842, 56.94857142857143, 'X[5] <= 11.713\\ngini = 0.5\\nsamples = 2\\nvalue = [1, 1]'),\n",
       " Text(255.24356435643566, 46.59428571428572, 'gini = 0.0\\nsamples = 1\\nvalue = [0, 1]'),\n",
       " Text(261.8732673267327, 46.59428571428572, 'gini = 0.0\\nsamples = 1\\nvalue = [1, 0]'),\n",
       " Text(265.1881188118812, 56.94857142857143, 'gini = 0.0\\nsamples = 3\\nvalue = [3, 0]'),\n",
       " Text(256.9009900990099, 77.65714285714284, 'gini = 0.0\\nsamples = 1\\nvalue = [0, 1]'),\n",
       " Text(278.44752475247526, 108.72, 'X[2] <= 27.5\\ngini = 0.351\\nsamples = 44\\nvalue = [34, 10]'),\n",
       " Text(265.1881188118812, 98.36571428571429, 'X[5] <= 7.144\\ngini = 0.49\\nsamples = 7\\nvalue = [3, 4]'),\n",
       " Text(261.8732673267327, 88.01142857142858, 'gini = 0.0\\nsamples = 1\\nvalue = [0, 1]'),\n",
       " Text(268.5029702970297, 88.01142857142858, 'X[5] <= 7.554\\ngini = 0.5\\nsamples = 6\\nvalue = [3, 3]'),\n",
       " Text(265.1881188118812, 77.65714285714284, 'gini = 0.0\\nsamples = 1\\nvalue = [1, 0]'),\n",
       " Text(271.8178217821782, 77.65714285714284, 'X[5] <= 7.846\\ngini = 0.48\\nsamples = 5\\nvalue = [2, 3]'),\n",
       " Text(268.5029702970297, 67.30285714285714, 'gini = 0.0\\nsamples = 1\\nvalue = [0, 1]'),\n",
       " Text(275.13267326732677, 67.30285714285714, 'X[5] <= 8.279\\ngini = 0.5\\nsamples = 4\\nvalue = [2, 2]'),\n",
       " Text(271.8178217821782, 56.94857142857143, 'gini = 0.0\\nsamples = 1\\nvalue = [1, 0]'),\n",
       " Text(278.44752475247526, 56.94857142857143, 'X[0] <= 2.5\\ngini = 0.444\\nsamples = 3\\nvalue = [1, 2]'),\n",
       " Text(275.13267326732677, 46.59428571428572, 'X[5] <= 13.431\\ngini = 0.5\\nsamples = 2\\nvalue = [1, 1]'),\n",
       " Text(271.8178217821782, 36.24000000000001, 'gini = 0.0\\nsamples = 1\\nvalue = [1, 0]'),\n",
       " Text(278.44752475247526, 36.24000000000001, 'gini = 0.0\\nsamples = 1\\nvalue = [0, 1]'),\n",
       " Text(281.7623762376238, 46.59428571428572, 'gini = 0.0\\nsamples = 1\\nvalue = [0, 1]'),\n",
       " Text(291.70693069306935, 98.36571428571429, 'X[2] <= 28.75\\ngini = 0.272\\nsamples = 37\\nvalue = [31, 6]'),\n",
       " Text(288.3920792079208, 88.01142857142858, 'gini = 0.0\\nsamples = 12\\nvalue = [12, 0]'),\n",
       " Text(295.02178217821785, 88.01142857142858, 'X[5] <= 7.763\\ngini = 0.365\\nsamples = 25\\nvalue = [19, 6]'),\n",
       " Text(291.70693069306935, 77.65714285714284, 'gini = 0.0\\nsamples = 6\\nvalue = [6, 0]'),\n",
       " Text(298.33663366336634, 77.65714285714284, 'X[5] <= 10.0\\ngini = 0.432\\nsamples = 19\\nvalue = [13, 6]'),\n",
       " Text(295.02178217821785, 67.30285714285714, 'X[5] <= 8.081\\ngini = 0.49\\nsamples = 14\\nvalue = [8, 6]'),\n",
       " Text(291.70693069306935, 56.94857142857143, 'X[5] <= 7.988\\ngini = 0.397\\nsamples = 11\\nvalue = [8, 3]'),\n",
       " Text(288.3920792079208, 46.59428571428572, 'X[5] <= 7.91\\ngini = 0.469\\nsamples = 8\\nvalue = [5, 3]'),\n",
       " Text(285.0772277227723, 36.24000000000001, 'X[2] <= 29.5\\ngini = 0.408\\nsamples = 7\\nvalue = [5, 2]'),\n",
       " Text(281.7623762376238, 25.8857142857143, 'X[5] <= 7.825\\ngini = 0.48\\nsamples = 5\\nvalue = [3, 2]'),\n",
       " Text(278.44752475247526, 15.531428571428563, 'gini = 0.5\\nsamples = 2\\nvalue = [1, 1]'),\n",
       " Text(285.0772277227723, 15.531428571428563, 'X[5] <= 7.885\\ngini = 0.444\\nsamples = 3\\nvalue = [2, 1]'),\n",
       " Text(281.7623762376238, 5.177142857142854, 'gini = 0.0\\nsamples = 1\\nvalue = [1, 0]'),\n",
       " Text(288.3920792079208, 5.177142857142854, 'gini = 0.5\\nsamples = 2\\nvalue = [1, 1]'),\n",
       " Text(288.3920792079208, 25.8857142857143, 'gini = 0.0\\nsamples = 2\\nvalue = [2, 0]'),\n",
       " Text(291.70693069306935, 36.24000000000001, 'gini = 0.0\\nsamples = 1\\nvalue = [0, 1]'),\n",
       " Text(295.02178217821785, 46.59428571428572, 'gini = 0.0\\nsamples = 3\\nvalue = [3, 0]'),\n",
       " Text(298.33663366336634, 56.94857142857143, 'gini = 0.0\\nsamples = 3\\nvalue = [0, 3]'),\n",
       " Text(301.6514851485149, 67.30285714285714, 'gini = 0.0\\nsamples = 5\\nvalue = [5, 0]'),\n",
       " Text(246.5420792079208, 119.07428571428571, 'gini = 0.0\\nsamples = 1\\nvalue = [0, 1]'),\n",
       " Text(249.85693069306933, 129.42857142857144, 'gini = 0.0\\nsamples = 16\\nvalue = [16, 0]'),\n",
       " Text(295.02178217821785, 139.78285714285715, 'X[5] <= 20.925\\ngini = 0.49\\nsamples = 7\\nvalue = [4, 3]'),\n",
       " Text(291.70693069306935, 129.42857142857144, 'X[5] <= 7.89\\ngini = 0.32\\nsamples = 5\\nvalue = [4, 1]'),\n",
       " Text(288.3920792079208, 119.07428571428571, 'X[5] <= 7.802\\ngini = 0.5\\nsamples = 2\\nvalue = [1, 1]'),\n",
       " Text(285.0772277227723, 108.72, 'gini = 0.0\\nsamples = 1\\nvalue = [1, 0]'),\n",
       " Text(291.70693069306935, 108.72, 'gini = 0.0\\nsamples = 1\\nvalue = [0, 1]'),\n",
       " Text(295.02178217821785, 119.07428571428571, 'gini = 0.0\\nsamples = 3\\nvalue = [3, 0]'),\n",
       " Text(298.33663366336634, 129.42857142857144, 'gini = 0.0\\nsamples = 2\\nvalue = [0, 2]'),\n",
       " Text(274.09678217821784, 160.49142857142857, 'gini = 0.0\\nsamples = 20\\nvalue = [20, 0]'),\n",
       " Text(324.85544554455447, 170.84571428571428, 'X[5] <= 47.748\\ngini = 0.084\\nsamples = 91\\nvalue = [87, 4]'),\n",
       " Text(321.540594059406, 160.49142857142857, 'X[2] <= 61.5\\ngini = 0.064\\nsamples = 90\\nvalue = [87, 3]'),\n",
       " Text(314.91089108910893, 150.13714285714286, 'X[5] <= 13.5\\ngini = 0.046\\nsamples = 84\\nvalue = [82, 2]'),\n",
       " Text(311.59603960396043, 139.78285714285715, 'X[5] <= 12.762\\ngini = 0.07\\nsamples = 55\\nvalue = [53, 2]'),\n",
       " Text(304.9663366336634, 129.42857142857144, 'X[2] <= 44.5\\ngini = 0.041\\nsamples = 48\\nvalue = [47, 1]'),\n",
       " Text(301.6514851485149, 119.07428571428571, 'gini = 0.0\\nsamples = 34\\nvalue = [34, 0]'),\n",
       " Text(308.2811881188119, 119.07428571428571, 'X[2] <= 45.25\\ngini = 0.133\\nsamples = 14\\nvalue = [13, 1]'),\n",
       " Text(304.9663366336634, 108.72, 'X[5] <= 7.513\\ngini = 0.5\\nsamples = 2\\nvalue = [1, 1]'),\n",
       " Text(301.6514851485149, 98.36571428571429, 'gini = 0.0\\nsamples = 1\\nvalue = [1, 0]'),\n",
       " Text(308.2811881188119, 98.36571428571429, 'gini = 0.0\\nsamples = 1\\nvalue = [0, 1]'),\n",
       " Text(311.59603960396043, 108.72, 'gini = 0.0\\nsamples = 12\\nvalue = [12, 0]'),\n",
       " Text(318.2257425742574, 129.42857142857144, 'X[2] <= 36.5\\ngini = 0.245\\nsamples = 7\\nvalue = [6, 1]'),\n",
       " Text(314.91089108910893, 119.07428571428571, 'gini = 0.444\\nsamples = 3\\nvalue = [2, 1]'),\n",
       " Text(321.540594059406, 119.07428571428571, 'gini = 0.0\\nsamples = 4\\nvalue = [4, 0]'),\n",
       " Text(318.2257425742574, 139.78285714285715, 'gini = 0.0\\nsamples = 29\\nvalue = [29, 0]'),\n",
       " Text(328.170297029703, 150.13714285714286, 'X[2] <= 63.5\\ngini = 0.278\\nsamples = 6\\nvalue = [5, 1]'),\n",
       " Text(324.85544554455447, 139.78285714285715, 'gini = 0.0\\nsamples = 1\\nvalue = [0, 1]'),\n",
       " Text(331.4851485148515, 139.78285714285715, 'gini = 0.0\\nsamples = 5\\nvalue = [5, 0]'),\n",
       " Text(328.170297029703, 160.49142857142857, 'gini = 0.0\\nsamples = 1\\nvalue = [0, 1]')]"
      ]
     },
     "execution_count": 49,
     "metadata": {},
     "output_type": "execute_result"
    },
    {
     "data": {
      "image/png": "[encoded data removed]",
      "text/plain": [
       "<Figure size 432x288 with 1 Axes>"
      ]
     },
     "metadata": {
      "needs_background": "light"
     },
     "output_type": "display_data"
    }
   ],
   "source": [
    "tree.plot_tree(clf) "
   ]
  },
  {
   "cell_type": "code",
   "execution_count": 50,
   "metadata": {
    "scrolled": true
   },
   "outputs": [
    {
     "name": "stdout",
     "output_type": "stream",
     "text": [
      "0.7713310580204779\n"
     ]
    }
   ],
   "source": [
    "score5=clf.score(X_test,y_test)\n",
    "print(score5)"
   ]
  },
  {
   "cell_type": "code",
   "execution_count": 51,
   "metadata": {},
   "outputs": [],
   "source": [
    "prediction4=clf.predict(X_test)"
   ]
  },
  {
   "cell_type": "code",
   "execution_count": 52,
   "metadata": {
    "scrolled": true
   },
   "outputs": [
    {
     "data": {
      "text/plain": [
       "0.7713310580204779"
      ]
     },
     "execution_count": 52,
     "metadata": {},
     "output_type": "execute_result"
    }
   ],
   "source": [
    "metrics.accuracy_score(y_test,prediction4)"
   ]
  },
  {
   "cell_type": "code",
   "execution_count": null,
   "metadata": {},
   "outputs": [],
   "source": []
  },
  {
   "cell_type": "code",
   "execution_count": null,
   "metadata": {},
   "outputs": [],
   "source": []
  },
  {
   "cell_type": "code",
   "execution_count": 55,
   "metadata": {},
   "outputs": [],
   "source": [
    "import matplotlib.pyplot as plt"
   ]
  },
  {
   "cell_type": "markdown",
   "metadata": {},
   "source": [
    "Box plot for survivers"
   ]
  },
  {
   "cell_type": "code",
   "execution_count": 56,
   "metadata": {
    "scrolled": true
   },
   "outputs": [
    {
     "data": {
      "image/png": "[encoded data removed]",
      "text/plain": [
       "<Figure size 432x288 with 1 Axes>"
      ]
     },
     "metadata": {
      "needs_background": "light"
     },
     "output_type": "display_data"
    }
   ],
   "source": [
    "data.boxplot(column='Survived',showfliers=False)\n",
    "plt.show()"
   ]
  },
  {
   "cell_type": "code",
   "execution_count": 76,
   "metadata": {},
   "outputs": [
    {
     "data": {
      "image/png": "[encoded data removed]",
      "text/plain": [
       "<Figure size 1440x1080 with 1 Axes>"
      ]
     },
     "metadata": {
      "needs_background": "light"
     },
     "output_type": "display_data"
    }
   ],
   "source": [
    "x=data['Pclass']\n",
    "y=data['Survived']\n",
    "\n",
    "fig,ax=plt.subplots(figsize =(20, 15)) \n",
    "ax.scatter(x, y)\n",
    "ax.set\n",
    "\n",
    "ax.set_ylabel('Number of Survivors')\n",
    "ax.set_xlabel('Passenger travelling class')\n",
    "ax.set_title('survivors by class of travel')\n",
    "\n",
    "plt.show()"
   ]
  },
  {
   "cell_type": "markdown",
   "metadata": {},
   "source": [
    "By comparing all the models...\n",
    "        we can say that Logistic Regression is the best model to be used here as it gives the highest accuracy score."
   ]
  }
 ],
 "metadata": {
  "kernelspec": {
   "display_name": "Python 3",
   "language": "python",
   "name": "python3"
  },
  "language_info": {
   "codemirror_mode": {
    "name": "ipython",
    "version": 3
   },
   "file_extension": ".py",
   "mimetype": "text/x-python",
   "name": "python",
   "nbconvert_exporter": "python",
   "pygments_lexer": "ipython3",
   "version": "3.8.5"
  }
 },
 "nbformat": 4,
 "nbformat_minor": 4
}
